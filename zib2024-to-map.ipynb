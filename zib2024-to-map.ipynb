{
 "cells": [
  {
   "cell_type": "markdown",
   "metadata": {},
   "source": [
    "# zib gereed maken voor mapping\n",
    "\n",
    "* inlezen en layout consistent maken met XtEHR\n",
    "* opslaan voor mapping - zie mapping Notebook\n",
    "\n",
    "## imports"
   ]
  },
  {
   "cell_type": "code",
   "execution_count": 1,
   "metadata": {},
   "outputs": [],
   "source": [
    "import pandas as pd\n",
    "import os"
   ]
  },
  {
   "cell_type": "markdown",
   "metadata": {},
   "source": [
    "## toon de zibs in folder (hier: zib2024)"
   ]
  },
  {
   "cell_type": "code",
   "execution_count": 8,
   "metadata": {},
   "outputs": [
    {
     "data": {
      "text/plain": [
       "[(0, 'Nl.zorg.Alert-v5.0(2024EN).xlsx'),\n",
       " (1, 'Nl.zorg.Condition-v1.1(2024EN).xlsx'),\n",
       " (2, 'Nl.zorg.Diagnosis-v2.0(2024EN).xlsx'),\n",
       " (3, 'Nl.zorg.HealthcareProvider-v3.6(2024EN).xlsx'),\n",
       " (4, 'Nl.zorg.HealthProfessional-v4.0(2024EN).xlsx'),\n",
       " (5, 'Nl.zorg.MedicalDevice-v5.0(2024EN).xlsx'),\n",
       " (6, 'Nl.zorg.NursingIntervention-v5.0(2024EN).xlsx'),\n",
       " (7, 'Nl.zorg.part.AddressInformation-v1.2(2024EN).xlsx'),\n",
       " (8, 'Nl.zorg.part.AnatomicalLocation-v1.0.4(2024EN).xlsx'),\n",
       " (9, 'Nl.zorg.part.ContactInformation-v1.3.1(2024EN).xlsx'),\n",
       " (10, 'Nl.zorg.part.NameInformation-v1.2(2024EN).xlsx'),\n",
       " (11, 'Nl.zorg.Patient-v4.3(2024EN).xlsx'),\n",
       " (12, 'Nl.zorg.Procedure-v6.0(2024EN).xlsx'),\n",
       " (13, 'Nl.zorg.process.RegistrationData-v1.1.2(2024EN).xlsx')]"
      ]
     },
     "execution_count": 8,
     "metadata": {},
     "output_type": "execute_result"
    }
   ],
   "source": [
    "base = 'zibs2024'\n",
    "folder = os.path.join(base, 'downloads')\n",
    "files = os.listdir(folder)\n",
    "[(i, file) for i, file in enumerate(files)]"
   ]
  },
  {
   "cell_type": "markdown",
   "metadata": {},
   "source": [
    "## kies een zib"
   ]
  },
  {
   "cell_type": "code",
   "execution_count": 9,
   "metadata": {},
   "outputs": [
    {
     "name": "stdout",
     "output_type": "stream",
     "text": [
      "Nl.zorg.Condition-v1.1(2024EN).xlsx\n"
     ]
    },
    {
     "name": "stderr",
     "output_type": "stream",
     "text": [
      "c:\\Users\\MarcdeGraauw\\anaconda3\\Lib\\site-packages\\openpyxl\\styles\\stylesheet.py:237: UserWarning: Workbook contains no default style, apply openpyxl's default\n",
      "  warn(\"Workbook contains no default style, apply openpyxl's default\")\n"
     ]
    },
    {
     "data": {
      "application/vnd.microsoft.datawrangler.viewer.v0+json": {
       "columns": [
        {
         "name": "index",
         "rawType": "int64",
         "type": "integer"
        },
        {
         "name": "Unnamed: 0",
         "rawType": "float64",
         "type": "float"
        },
        {
         "name": "Concept",
         "rawType": "object",
         "type": "unknown"
        },
        {
         "name": "Unnamed: 2",
         "rawType": "object",
         "type": "unknown"
        },
        {
         "name": "Unnamed: 3",
         "rawType": "float64",
         "type": "float"
        },
        {
         "name": "Unnamed: 4",
         "rawType": "float64",
         "type": "float"
        },
        {
         "name": "Unnamed: 5",
         "rawType": "float64",
         "type": "float"
        },
        {
         "name": "Unnamed: 6",
         "rawType": "float64",
         "type": "float"
        },
        {
         "name": "Alias",
         "rawType": "object",
         "type": "string"
        },
        {
         "name": "Type",
         "rawType": "object",
         "type": "unknown"
        },
        {
         "name": "Card.",
         "rawType": "object",
         "type": "unknown"
        },
        {
         "name": "Stereotype",
         "rawType": "object",
         "type": "string"
        },
        {
         "name": "Id",
         "rawType": "object",
         "type": "string"
        },
        {
         "name": "Definition",
         "rawType": "object",
         "type": "string"
        },
        {
         "name": "DefinitionCode",
         "rawType": "object",
         "type": "unknown"
        },
        {
         "name": "Reference",
         "rawType": "object",
         "type": "unknown"
        },
        {
         "name": "Constraints",
         "rawType": "float64",
         "type": "float"
        }
       ],
       "ref": "d70b2ca0-24be-454f-b77e-9c766bab8980",
       "rows": [
        [
         "0",
         null,
         "Condition",
         null,
         null,
         null,
         null,
         null,
         "NL: AandoeningOfGesteldheid",
         null,
         null,
         "rootconcept",
         "NL-CM:5.4.1",
         "This is a reference to the root concept of information model Condition. This root concept contains all data elements of the information model Condition.",
         "SNOMED CT: 64572001 Disease",
         null,
         null
        ],
        [
         "1",
         null,
         null,
         "PeriodPresent::TimeInterval",
         null,
         null,
         null,
         null,
         "NL: PeriodeAanwezig::TijdsInterval",
         null,
         "1",
         "data,reference",
         "NL-CM:5.4.8",
         "The period in which the condition is (was) present.",
         null,
         "This is a reference to the rootconcept of information model TimeInterval.",
         null
        ],
        [
         "2",
         null,
         null,
         "StatusDate",
         null,
         null,
         null,
         null,
         "NL: StatusDatum",
         "TS",
         "1",
         "data",
         "NL-CM:5.4.3",
         "The moment from when the data regarding the condition apply. It may be a vague moment.",
         "SNOMED CT: 350351000146106 Date health condition changed",
         null,
         null
        ],
        [
         "3",
         null,
         null,
         "Course",
         null,
         null,
         null,
         null,
         "NL: Beloop",
         "CD",
         "0..1",
         "data",
         "NL-CM:5.4.5",
         "The course of the condition. This is independent of the diagnostic insight for the condition. The course indicates how the condition is developing: such as stable, progression, remission, etc..",
         null,
         "CourseCodelist",
         null
        ],
        [
         "4",
         null,
         null,
         "Severity",
         null,
         null,
         null,
         null,
         "NL: Ernst",
         "CD",
         "1",
         "data",
         "NL-CM:5.4.6",
         "Indication of the severity of the condition. A condition may cause few or mild symptoms and yet be serious, but the reverse is also possible.",
         "SNOMED CT: 246112005 Severity",
         "SeverityCodelist",
         null
        ],
        [
         "5",
         null,
         null,
         "Comment",
         null,
         null,
         null,
         null,
         "NL: Toelichting",
         "ST",
         "0..1",
         "data",
         "NL-CM:5.4.7",
         "A comment in free text with respect to the condition, that is not represented by the other data elements in the information model.",
         "LOINC: 48767-8 Annotation comment [Interpretation] Narrative",
         null,
         null
        ]
       ],
       "shape": {
        "columns": 16,
        "rows": 6
       }
      },
      "text/html": [
       "<div>\n",
       "<style scoped>\n",
       "    .dataframe tbody tr th:only-of-type {\n",
       "        vertical-align: middle;\n",
       "    }\n",
       "\n",
       "    .dataframe tbody tr th {\n",
       "        vertical-align: top;\n",
       "    }\n",
       "\n",
       "    .dataframe thead th {\n",
       "        text-align: right;\n",
       "    }\n",
       "</style>\n",
       "<table border=\"1\" class=\"dataframe\">\n",
       "  <thead>\n",
       "    <tr style=\"text-align: right;\">\n",
       "      <th></th>\n",
       "      <th>Unnamed: 0</th>\n",
       "      <th>Concept</th>\n",
       "      <th>Unnamed: 2</th>\n",
       "      <th>Unnamed: 3</th>\n",
       "      <th>Unnamed: 4</th>\n",
       "      <th>Unnamed: 5</th>\n",
       "      <th>Unnamed: 6</th>\n",
       "      <th>Alias</th>\n",
       "      <th>Type</th>\n",
       "      <th>Card.</th>\n",
       "      <th>Stereotype</th>\n",
       "      <th>Id</th>\n",
       "      <th>Definition</th>\n",
       "      <th>DefinitionCode</th>\n",
       "      <th>Reference</th>\n",
       "      <th>Constraints</th>\n",
       "    </tr>\n",
       "  </thead>\n",
       "  <tbody>\n",
       "    <tr>\n",
       "      <th>0</th>\n",
       "      <td>NaN</td>\n",
       "      <td>Condition</td>\n",
       "      <td>NaN</td>\n",
       "      <td>NaN</td>\n",
       "      <td>NaN</td>\n",
       "      <td>NaN</td>\n",
       "      <td>NaN</td>\n",
       "      <td>NL: AandoeningOfGesteldheid</td>\n",
       "      <td>NaN</td>\n",
       "      <td>NaN</td>\n",
       "      <td>rootconcept</td>\n",
       "      <td>NL-CM:5.4.1</td>\n",
       "      <td>This is a reference to the root concept of inf...</td>\n",
       "      <td>SNOMED CT: 64572001 Disease</td>\n",
       "      <td>NaN</td>\n",
       "      <td>NaN</td>\n",
       "    </tr>\n",
       "    <tr>\n",
       "      <th>1</th>\n",
       "      <td>NaN</td>\n",
       "      <td>NaN</td>\n",
       "      <td>PeriodPresent::TimeInterval</td>\n",
       "      <td>NaN</td>\n",
       "      <td>NaN</td>\n",
       "      <td>NaN</td>\n",
       "      <td>NaN</td>\n",
       "      <td>NL: PeriodeAanwezig::TijdsInterval</td>\n",
       "      <td>NaN</td>\n",
       "      <td>1</td>\n",
       "      <td>data,reference</td>\n",
       "      <td>NL-CM:5.4.8</td>\n",
       "      <td>The period in which the condition is (was) pre...</td>\n",
       "      <td>NaN</td>\n",
       "      <td>This is a reference to the rootconcept of info...</td>\n",
       "      <td>NaN</td>\n",
       "    </tr>\n",
       "    <tr>\n",
       "      <th>2</th>\n",
       "      <td>NaN</td>\n",
       "      <td>NaN</td>\n",
       "      <td>StatusDate</td>\n",
       "      <td>NaN</td>\n",
       "      <td>NaN</td>\n",
       "      <td>NaN</td>\n",
       "      <td>NaN</td>\n",
       "      <td>NL: StatusDatum</td>\n",
       "      <td>TS</td>\n",
       "      <td>1</td>\n",
       "      <td>data</td>\n",
       "      <td>NL-CM:5.4.3</td>\n",
       "      <td>The moment from when the data regarding the co...</td>\n",
       "      <td>SNOMED CT: 350351000146106 Date health conditi...</td>\n",
       "      <td>NaN</td>\n",
       "      <td>NaN</td>\n",
       "    </tr>\n",
       "    <tr>\n",
       "      <th>3</th>\n",
       "      <td>NaN</td>\n",
       "      <td>NaN</td>\n",
       "      <td>Course</td>\n",
       "      <td>NaN</td>\n",
       "      <td>NaN</td>\n",
       "      <td>NaN</td>\n",
       "      <td>NaN</td>\n",
       "      <td>NL: Beloop</td>\n",
       "      <td>CD</td>\n",
       "      <td>0..1</td>\n",
       "      <td>data</td>\n",
       "      <td>NL-CM:5.4.5</td>\n",
       "      <td>The course of the condition. This is independe...</td>\n",
       "      <td>NaN</td>\n",
       "      <td>CourseCodelist</td>\n",
       "      <td>NaN</td>\n",
       "    </tr>\n",
       "    <tr>\n",
       "      <th>4</th>\n",
       "      <td>NaN</td>\n",
       "      <td>NaN</td>\n",
       "      <td>Severity</td>\n",
       "      <td>NaN</td>\n",
       "      <td>NaN</td>\n",
       "      <td>NaN</td>\n",
       "      <td>NaN</td>\n",
       "      <td>NL: Ernst</td>\n",
       "      <td>CD</td>\n",
       "      <td>1</td>\n",
       "      <td>data</td>\n",
       "      <td>NL-CM:5.4.6</td>\n",
       "      <td>Indication of the severity of the condition. A...</td>\n",
       "      <td>SNOMED CT: 246112005 Severity</td>\n",
       "      <td>SeverityCodelist</td>\n",
       "      <td>NaN</td>\n",
       "    </tr>\n",
       "    <tr>\n",
       "      <th>5</th>\n",
       "      <td>NaN</td>\n",
       "      <td>NaN</td>\n",
       "      <td>Comment</td>\n",
       "      <td>NaN</td>\n",
       "      <td>NaN</td>\n",
       "      <td>NaN</td>\n",
       "      <td>NaN</td>\n",
       "      <td>NL: Toelichting</td>\n",
       "      <td>ST</td>\n",
       "      <td>0..1</td>\n",
       "      <td>data</td>\n",
       "      <td>NL-CM:5.4.7</td>\n",
       "      <td>A comment in free text with respect to the con...</td>\n",
       "      <td>LOINC: 48767-8 Annotation comment [Interpretat...</td>\n",
       "      <td>NaN</td>\n",
       "      <td>NaN</td>\n",
       "    </tr>\n",
       "  </tbody>\n",
       "</table>\n",
       "</div>"
      ],
      "text/plain": [
       "   Unnamed: 0    Concept                   Unnamed: 2  Unnamed: 3  Unnamed: 4  \\\n",
       "0         NaN  Condition                          NaN         NaN         NaN   \n",
       "1         NaN        NaN  PeriodPresent::TimeInterval         NaN         NaN   \n",
       "2         NaN        NaN                   StatusDate         NaN         NaN   \n",
       "3         NaN        NaN                       Course         NaN         NaN   \n",
       "4         NaN        NaN                     Severity         NaN         NaN   \n",
       "5         NaN        NaN                      Comment         NaN         NaN   \n",
       "\n",
       "   Unnamed: 5  Unnamed: 6                               Alias Type Card.  \\\n",
       "0         NaN         NaN         NL: AandoeningOfGesteldheid  NaN   NaN   \n",
       "1         NaN         NaN  NL: PeriodeAanwezig::TijdsInterval  NaN     1   \n",
       "2         NaN         NaN                     NL: StatusDatum   TS     1   \n",
       "3         NaN         NaN                          NL: Beloop   CD  0..1   \n",
       "4         NaN         NaN                           NL: Ernst   CD     1   \n",
       "5         NaN         NaN                     NL: Toelichting   ST  0..1   \n",
       "\n",
       "       Stereotype           Id  \\\n",
       "0     rootconcept  NL-CM:5.4.1   \n",
       "1  data,reference  NL-CM:5.4.8   \n",
       "2            data  NL-CM:5.4.3   \n",
       "3            data  NL-CM:5.4.5   \n",
       "4            data  NL-CM:5.4.6   \n",
       "5            data  NL-CM:5.4.7   \n",
       "\n",
       "                                          Definition  \\\n",
       "0  This is a reference to the root concept of inf...   \n",
       "1  The period in which the condition is (was) pre...   \n",
       "2  The moment from when the data regarding the co...   \n",
       "3  The course of the condition. This is independe...   \n",
       "4  Indication of the severity of the condition. A...   \n",
       "5  A comment in free text with respect to the con...   \n",
       "\n",
       "                                      DefinitionCode  \\\n",
       "0                        SNOMED CT: 64572001 Disease   \n",
       "1                                                NaN   \n",
       "2  SNOMED CT: 350351000146106 Date health conditi...   \n",
       "3                                                NaN   \n",
       "4                      SNOMED CT: 246112005 Severity   \n",
       "5  LOINC: 48767-8 Annotation comment [Interpretat...   \n",
       "\n",
       "                                           Reference  Constraints  \n",
       "0                                                NaN          NaN  \n",
       "1  This is a reference to the rootconcept of info...          NaN  \n",
       "2                                                NaN          NaN  \n",
       "3                                     CourseCodelist          NaN  \n",
       "4                                   SeverityCodelist          NaN  \n",
       "5                                                NaN          NaN  "
      ]
     },
     "execution_count": 9,
     "metadata": {},
     "output_type": "execute_result"
    }
   ],
   "source": [
    "file = files[1]\n",
    "print(file)\n",
    "url = os.path.join(folder, file)\n",
    "zibdf = pd.read_excel(url, sheet_name='Data', header=1)\n",
    "zibdf"
   ]
  },
  {
   "cell_type": "markdown",
   "metadata": {},
   "source": [
    "## opschonen zib\n",
    "\n",
    "* lowercase kolomnamen\n",
    "* paar labels laten vervallen\n",
    "* name en path kolom toevoegen\n",
    "* name vullen (naam attribuut)\n",
    "* kolommen opschonen tot benodigde\n",
    "\n",
    "Handmatig:\n",
    "* path vullen (als in logical model, dus pad.pad2.pad3.naam etc.)"
   ]
  },
  {
   "cell_type": "code",
   "execution_count": 10,
   "metadata": {},
   "outputs": [
    {
     "data": {
      "application/vnd.microsoft.datawrangler.viewer.v0+json": {
       "columns": [
        {
         "name": "index",
         "rawType": "int64",
         "type": "integer"
        },
        {
         "name": "name",
         "rawType": "object",
         "type": "string"
        },
        {
         "name": "path",
         "rawType": "object",
         "type": "string"
        },
        {
         "name": "alias",
         "rawType": "object",
         "type": "string"
        },
        {
         "name": "type",
         "rawType": "object",
         "type": "string"
        },
        {
         "name": "card.",
         "rawType": "object",
         "type": "string"
        },
        {
         "name": "stereotype",
         "rawType": "object",
         "type": "string"
        },
        {
         "name": "id",
         "rawType": "object",
         "type": "string"
        },
        {
         "name": "definition",
         "rawType": "object",
         "type": "string"
        },
        {
         "name": "definitioncode",
         "rawType": "object",
         "type": "string"
        }
       ],
       "ref": "03e267d8-dddc-4e96-8571-a00b8dcedbae",
       "rows": [
        [
         "0",
         "Condition",
         "Condition",
         "NL: AandoeningOfGesteldheid",
         "",
         "",
         "rootconcept",
         "NL-CM:5.4.1",
         "This is a reference to the root concept of information model Condition. This root concept contains all data elements of the information model Condition.",
         "SNOMED CT: 64572001 Disease"
        ],
        [
         "1",
         "PeriodPresent::TimeInterval",
         "Condition.PeriodPresent::TimeInterval",
         "NL: PeriodeAanwezig::TijdsInterval",
         "",
         "1",
         "data,reference",
         "NL-CM:5.4.8",
         "The period in which the condition is (was) present.",
         ""
        ],
        [
         "2",
         "StatusDate",
         "Condition.StatusDate",
         "NL: StatusDatum",
         "TS",
         "1",
         "data",
         "NL-CM:5.4.3",
         "The moment from when the data regarding the condition apply. It may be a vague moment.",
         "SNOMED CT: 350351000146106 Date health condition changed"
        ],
        [
         "3",
         "Course",
         "Condition.Course",
         "NL: Beloop",
         "CD",
         "0..1",
         "data",
         "NL-CM:5.4.5",
         "The course of the condition. This is independent of the diagnostic insight for the condition. The course indicates how the condition is developing: such as stable, progression, remission, etc..",
         ""
        ],
        [
         "4",
         "Severity",
         "Condition.Severity",
         "NL: Ernst",
         "CD",
         "1",
         "data",
         "NL-CM:5.4.6",
         "Indication of the severity of the condition. A condition may cause few or mild symptoms and yet be serious, but the reverse is also possible.",
         "SNOMED CT: 246112005 Severity"
        ],
        [
         "5",
         "Comment",
         "Condition.Comment",
         "NL: Toelichting",
         "ST",
         "0..1",
         "data",
         "NL-CM:5.4.7",
         "A comment in free text with respect to the condition, that is not represented by the other data elements in the information model.",
         "LOINC: 48767-8 Annotation comment [Interpretation] Narrative"
        ]
       ],
       "shape": {
        "columns": 9,
        "rows": 6
       }
      },
      "text/html": [
       "<div>\n",
       "<style scoped>\n",
       "    .dataframe tbody tr th:only-of-type {\n",
       "        vertical-align: middle;\n",
       "    }\n",
       "\n",
       "    .dataframe tbody tr th {\n",
       "        vertical-align: top;\n",
       "    }\n",
       "\n",
       "    .dataframe thead th {\n",
       "        text-align: right;\n",
       "    }\n",
       "</style>\n",
       "<table border=\"1\" class=\"dataframe\">\n",
       "  <thead>\n",
       "    <tr style=\"text-align: right;\">\n",
       "      <th></th>\n",
       "      <th>name</th>\n",
       "      <th>path</th>\n",
       "      <th>alias</th>\n",
       "      <th>type</th>\n",
       "      <th>card.</th>\n",
       "      <th>stereotype</th>\n",
       "      <th>id</th>\n",
       "      <th>definition</th>\n",
       "      <th>definitioncode</th>\n",
       "    </tr>\n",
       "  </thead>\n",
       "  <tbody>\n",
       "    <tr>\n",
       "      <th>0</th>\n",
       "      <td>Condition</td>\n",
       "      <td>Condition</td>\n",
       "      <td>NL: AandoeningOfGesteldheid</td>\n",
       "      <td></td>\n",
       "      <td></td>\n",
       "      <td>rootconcept</td>\n",
       "      <td>NL-CM:5.4.1</td>\n",
       "      <td>This is a reference to the root concept of inf...</td>\n",
       "      <td>SNOMED CT: 64572001 Disease</td>\n",
       "    </tr>\n",
       "    <tr>\n",
       "      <th>1</th>\n",
       "      <td>PeriodPresent::TimeInterval</td>\n",
       "      <td>Condition.PeriodPresent::TimeInterval</td>\n",
       "      <td>NL: PeriodeAanwezig::TijdsInterval</td>\n",
       "      <td></td>\n",
       "      <td>1</td>\n",
       "      <td>data,reference</td>\n",
       "      <td>NL-CM:5.4.8</td>\n",
       "      <td>The period in which the condition is (was) pre...</td>\n",
       "      <td></td>\n",
       "    </tr>\n",
       "    <tr>\n",
       "      <th>2</th>\n",
       "      <td>StatusDate</td>\n",
       "      <td>Condition.StatusDate</td>\n",
       "      <td>NL: StatusDatum</td>\n",
       "      <td>TS</td>\n",
       "      <td>1</td>\n",
       "      <td>data</td>\n",
       "      <td>NL-CM:5.4.3</td>\n",
       "      <td>The moment from when the data regarding the co...</td>\n",
       "      <td>SNOMED CT: 350351000146106 Date health conditi...</td>\n",
       "    </tr>\n",
       "    <tr>\n",
       "      <th>3</th>\n",
       "      <td>Course</td>\n",
       "      <td>Condition.Course</td>\n",
       "      <td>NL: Beloop</td>\n",
       "      <td>CD</td>\n",
       "      <td>0..1</td>\n",
       "      <td>data</td>\n",
       "      <td>NL-CM:5.4.5</td>\n",
       "      <td>The course of the condition. This is independe...</td>\n",
       "      <td></td>\n",
       "    </tr>\n",
       "    <tr>\n",
       "      <th>4</th>\n",
       "      <td>Severity</td>\n",
       "      <td>Condition.Severity</td>\n",
       "      <td>NL: Ernst</td>\n",
       "      <td>CD</td>\n",
       "      <td>1</td>\n",
       "      <td>data</td>\n",
       "      <td>NL-CM:5.4.6</td>\n",
       "      <td>Indication of the severity of the condition. A...</td>\n",
       "      <td>SNOMED CT: 246112005 Severity</td>\n",
       "    </tr>\n",
       "    <tr>\n",
       "      <th>5</th>\n",
       "      <td>Comment</td>\n",
       "      <td>Condition.Comment</td>\n",
       "      <td>NL: Toelichting</td>\n",
       "      <td>ST</td>\n",
       "      <td>0..1</td>\n",
       "      <td>data</td>\n",
       "      <td>NL-CM:5.4.7</td>\n",
       "      <td>A comment in free text with respect to the con...</td>\n",
       "      <td>LOINC: 48767-8 Annotation comment [Interpretat...</td>\n",
       "    </tr>\n",
       "  </tbody>\n",
       "</table>\n",
       "</div>"
      ],
      "text/plain": [
       "                          name                                   path  \\\n",
       "0                    Condition                              Condition   \n",
       "1  PeriodPresent::TimeInterval  Condition.PeriodPresent::TimeInterval   \n",
       "2                   StatusDate                   Condition.StatusDate   \n",
       "3                       Course                       Condition.Course   \n",
       "4                     Severity                     Condition.Severity   \n",
       "5                      Comment                      Condition.Comment   \n",
       "\n",
       "                                alias type card.      stereotype           id  \\\n",
       "0         NL: AandoeningOfGesteldheid                rootconcept  NL-CM:5.4.1   \n",
       "1  NL: PeriodeAanwezig::TijdsInterval          1  data,reference  NL-CM:5.4.8   \n",
       "2                     NL: StatusDatum   TS     1            data  NL-CM:5.4.3   \n",
       "3                          NL: Beloop   CD  0..1            data  NL-CM:5.4.5   \n",
       "4                           NL: Ernst   CD     1            data  NL-CM:5.4.6   \n",
       "5                     NL: Toelichting   ST  0..1            data  NL-CM:5.4.7   \n",
       "\n",
       "                                          definition  \\\n",
       "0  This is a reference to the root concept of inf...   \n",
       "1  The period in which the condition is (was) pre...   \n",
       "2  The moment from when the data regarding the co...   \n",
       "3  The course of the condition. This is independe...   \n",
       "4  Indication of the severity of the condition. A...   \n",
       "5  A comment in free text with respect to the con...   \n",
       "\n",
       "                                      definitioncode  \n",
       "0                        SNOMED CT: 64572001 Disease  \n",
       "1                                                     \n",
       "2  SNOMED CT: 350351000146106 Date health conditi...  \n",
       "3                                                     \n",
       "4                      SNOMED CT: 246112005 Severity  \n",
       "5  LOINC: 48767-8 Annotation comment [Interpretat...  "
      ]
     },
     "execution_count": 10,
     "metadata": {},
     "output_type": "execute_result"
    }
   ],
   "source": [
    "zibdf.columns = [col.lower() for col in zibdf.columns]\n",
    "zibdf = zibdf.drop(labels=['unnamed: 0', 'reference'], axis=1).dropna(how='all')\n",
    "zibdf.insert(0, 'name', None)\n",
    "zibdf.insert(0, 'path', None)\n",
    "zibdf.fillna('')\n",
    "concepts = []\n",
    "for i, row in zibdf.iterrows():\n",
    "    # Loop thru columns 2 tot 8 (Concept and 'Unnamed' ones)\n",
    "    for j in range(2, 6):\n",
    "        # print(j, row.iloc[j])\n",
    "        if not pd.isna(row.iloc[j]):\n",
    "            # Remove last element if next column is empty\n",
    "            if len(concepts) > j -2:\n",
    "                concepts.pop()\n",
    "            try:\n",
    "                concepts[j - 2] = row.iloc[j]\n",
    "            except IndexError:\n",
    "                concepts.append(row.iloc[j])\n",
    "    # print(i, concepts)\n",
    "    zibdf.at[i, 'path'] = '.'.join(concepts)\n",
    "    zibdf.at[i, 'name'] = concepts[-1]\n",
    "zibdf = zibdf[['name', 'path', 'alias', 'type', 'card.', 'stereotype', 'id', 'definition', 'definitioncode']].fillna('')\n",
    "zibdf"
   ]
  },
  {
   "cell_type": "markdown",
   "metadata": {},
   "source": [
    "## Excel opslaan"
   ]
  },
  {
   "cell_type": "code",
   "execution_count": 11,
   "metadata": {},
   "outputs": [],
   "source": [
    "url = os.path.join(base, 'mappable', file)\n",
    "zibdf.to_excel(url, index=False)"
   ]
  },
  {
   "cell_type": "code",
   "execution_count": null,
   "metadata": {},
   "outputs": [],
   "source": []
  },
  {
   "cell_type": "code",
   "execution_count": null,
   "metadata": {},
   "outputs": [],
   "source": []
  }
 ],
 "metadata": {
  "kernelspec": {
   "display_name": "base",
   "language": "python",
   "name": "python3"
  },
  "language_info": {
   "codemirror_mode": {
    "name": "ipython",
    "version": 3
   },
   "file_extension": ".py",
   "mimetype": "text/x-python",
   "name": "python",
   "nbconvert_exporter": "python",
   "pygments_lexer": "ipython3",
   "version": "3.13.5"
  }
 },
 "nbformat": 4,
 "nbformat_minor": 4
}
