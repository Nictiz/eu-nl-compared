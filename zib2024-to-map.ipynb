{
 "cells": [
  {
   "cell_type": "markdown",
   "metadata": {},
   "source": [
    "# zib gereed maken voor mapping\n",
    "\n",
    "* inlezen en layout consistent maken met XtEHR\n",
    "* opslaan voor mapping - zie mapping Notebook\n",
    "\n",
    "## imports"
   ]
  },
  {
   "cell_type": "code",
   "execution_count": 1,
   "metadata": {},
   "outputs": [],
   "source": [
    "import pandas as pd\n",
    "import os"
   ]
  },
  {
   "cell_type": "markdown",
   "metadata": {},
   "source": [
    "## toon de zibs in folder (hier: zib2024)"
   ]
  },
  {
   "cell_type": "code",
   "execution_count": 2,
   "metadata": {},
   "outputs": [
    {
     "data": {
      "text/plain": [
       "['Nl.zorg.Alert-v5.0(2024EN).xlsx',\n",
       " 'Nl.zorg.HealthcareProvider-v3.6(2024EN).xlsx',\n",
       " 'Nl.zorg.HealthProfessional-v4.0(2024EN).xlsx',\n",
       " 'Nl.zorg.MedicalDevice-v5.0(2024EN).xlsx',\n",
       " 'Nl.zorg.part.AddressInformation-v1.2(2024EN).xlsx',\n",
       " 'Nl.zorg.part.AnatomicalLocation-v1.0.4(2024EN).xlsx',\n",
       " 'Nl.zorg.part.ContactInformation-v1.3.1(2024EN).xlsx',\n",
       " 'Nl.zorg.part.NameInformation-v1.2(2024EN).xlsx',\n",
       " 'Nl.zorg.Patient-v4.3(2024EN).xlsx',\n",
       " 'Nl.zorg.Procedure-v6.0(2024EN).xlsx']"
      ]
     },
     "execution_count": 2,
     "metadata": {},
     "output_type": "execute_result"
    }
   ],
   "source": [
    "base = 'zibs2024'\n",
    "folder = os.path.join(base, 'downloads')\n",
    "files = os.listdir(folder)\n",
    "files"
   ]
  },
  {
   "cell_type": "markdown",
   "metadata": {},
   "source": [
    "## kies een zib"
   ]
  },
  {
   "cell_type": "code",
   "execution_count": 9,
   "metadata": {},
   "outputs": [
    {
     "name": "stdout",
     "output_type": "stream",
     "text": [
      "Nl.zorg.part.AnatomicalLocation-v1.0.4(2024EN).xlsx\n"
     ]
    },
    {
     "name": "stderr",
     "output_type": "stream",
     "text": [
      "C:\\Users\\edelman_nict1\\AppData\\Roaming\\Python\\Python313\\site-packages\\openpyxl\\styles\\stylesheet.py:237: UserWarning: Workbook contains no default style, apply openpyxl's default\n",
      "  warn(\"Workbook contains no default style, apply openpyxl's default\")\n"
     ]
    },
    {
     "data": {
      "text/html": [
       "<div>\n",
       "<style scoped>\n",
       "    .dataframe tbody tr th:only-of-type {\n",
       "        vertical-align: middle;\n",
       "    }\n",
       "\n",
       "    .dataframe tbody tr th {\n",
       "        vertical-align: top;\n",
       "    }\n",
       "\n",
       "    .dataframe thead th {\n",
       "        text-align: right;\n",
       "    }\n",
       "</style>\n",
       "<table border=\"1\" class=\"dataframe\">\n",
       "  <thead>\n",
       "    <tr style=\"text-align: right;\">\n",
       "      <th></th>\n",
       "      <th>Unnamed: 0</th>\n",
       "      <th>Concept</th>\n",
       "      <th>Unnamed: 2</th>\n",
       "      <th>Unnamed: 3</th>\n",
       "      <th>Unnamed: 4</th>\n",
       "      <th>Unnamed: 5</th>\n",
       "      <th>Unnamed: 6</th>\n",
       "      <th>Alias</th>\n",
       "      <th>Type</th>\n",
       "      <th>Card.</th>\n",
       "      <th>Stereotype</th>\n",
       "      <th>Id</th>\n",
       "      <th>Definition</th>\n",
       "      <th>DefinitionCode</th>\n",
       "      <th>Reference</th>\n",
       "      <th>Constraints</th>\n",
       "    </tr>\n",
       "  </thead>\n",
       "  <tbody>\n",
       "    <tr>\n",
       "      <th>0</th>\n",
       "      <td>NaN</td>\n",
       "      <td>AnatomicalLocation</td>\n",
       "      <td>NaN</td>\n",
       "      <td>NaN</td>\n",
       "      <td>NaN</td>\n",
       "      <td>NaN</td>\n",
       "      <td>NaN</td>\n",
       "      <td>NL: AnatomischeLocatie</td>\n",
       "      <td>NaN</td>\n",
       "      <td>NaN</td>\n",
       "      <td>rootconcept</td>\n",
       "      <td>NL-CM:20.7.1</td>\n",
       "      <td>Root concept of the AnatomicalLocation partial...</td>\n",
       "      <td>SNOMED CT: 123037004 Body structure</td>\n",
       "      <td>NaN</td>\n",
       "      <td>NaN</td>\n",
       "    </tr>\n",
       "    <tr>\n",
       "      <th>1</th>\n",
       "      <td>NaN</td>\n",
       "      <td>NaN</td>\n",
       "      <td>Location</td>\n",
       "      <td>NaN</td>\n",
       "      <td>NaN</td>\n",
       "      <td>NaN</td>\n",
       "      <td>NaN</td>\n",
       "      <td>NL: Locatie</td>\n",
       "      <td>CD</td>\n",
       "      <td>0..1</td>\n",
       "      <td>data</td>\n",
       "      <td>NL-CM:20.7.4</td>\n",
       "      <td>Location on/in the body.</td>\n",
       "      <td>SNOMED CT: 363698007 Finding site</td>\n",
       "      <td>LocationCodelist</td>\n",
       "      <td>NaN</td>\n",
       "    </tr>\n",
       "    <tr>\n",
       "      <th>2</th>\n",
       "      <td>NaN</td>\n",
       "      <td>NaN</td>\n",
       "      <td>NaN</td>\n",
       "      <td>NaN</td>\n",
       "      <td>NaN</td>\n",
       "      <td>NaN</td>\n",
       "      <td>NaN</td>\n",
       "      <td>NaN</td>\n",
       "      <td>NaN</td>\n",
       "      <td>NaN</td>\n",
       "      <td>NaN</td>\n",
       "      <td>NaN</td>\n",
       "      <td>NaN</td>\n",
       "      <td>NaN</td>\n",
       "      <td>LocationICD-O-3Codelist</td>\n",
       "      <td>NaN</td>\n",
       "    </tr>\n",
       "    <tr>\n",
       "      <th>3</th>\n",
       "      <td>NaN</td>\n",
       "      <td>NaN</td>\n",
       "      <td>Laterality</td>\n",
       "      <td>NaN</td>\n",
       "      <td>NaN</td>\n",
       "      <td>NaN</td>\n",
       "      <td>NaN</td>\n",
       "      <td>NL: Lateraliteit</td>\n",
       "      <td>CD</td>\n",
       "      <td>0..1</td>\n",
       "      <td>data</td>\n",
       "      <td>NL-CM:20.7.3</td>\n",
       "      <td>Laterality adds information about the body sid...</td>\n",
       "      <td>SNOMED CT: 272741003 Laterality</td>\n",
       "      <td>LateralityCodelist</td>\n",
       "      <td>NaN</td>\n",
       "    </tr>\n",
       "  </tbody>\n",
       "</table>\n",
       "</div>"
      ],
      "text/plain": [
       "   Unnamed: 0             Concept  Unnamed: 2  Unnamed: 3  Unnamed: 4  \\\n",
       "0         NaN  AnatomicalLocation         NaN         NaN         NaN   \n",
       "1         NaN                 NaN    Location         NaN         NaN   \n",
       "2         NaN                 NaN         NaN         NaN         NaN   \n",
       "3         NaN                 NaN  Laterality         NaN         NaN   \n",
       "\n",
       "   Unnamed: 5  Unnamed: 6                   Alias Type Card.   Stereotype  \\\n",
       "0         NaN         NaN  NL: AnatomischeLocatie  NaN   NaN  rootconcept   \n",
       "1         NaN         NaN             NL: Locatie   CD  0..1         data   \n",
       "2         NaN         NaN                     NaN  NaN   NaN          NaN   \n",
       "3         NaN         NaN        NL: Lateraliteit   CD  0..1         data   \n",
       "\n",
       "             Id                                         Definition  \\\n",
       "0  NL-CM:20.7.1  Root concept of the AnatomicalLocation partial...   \n",
       "1  NL-CM:20.7.4                           Location on/in the body.   \n",
       "2           NaN                                                NaN   \n",
       "3  NL-CM:20.7.3  Laterality adds information about the body sid...   \n",
       "\n",
       "                        DefinitionCode                Reference  Constraints  \n",
       "0  SNOMED CT: 123037004 Body structure                      NaN          NaN  \n",
       "1    SNOMED CT: 363698007 Finding site         LocationCodelist          NaN  \n",
       "2                                  NaN  LocationICD-O-3Codelist          NaN  \n",
       "3      SNOMED CT: 272741003 Laterality       LateralityCodelist          NaN  "
      ]
     },
     "execution_count": 9,
     "metadata": {},
     "output_type": "execute_result"
    }
   ],
   "source": [
    "file = files[5]\n",
    "print(file)\n",
    "url = os.path.join(folder, file)\n",
    "zibdf = pd.read_excel(url, sheet_name='Data', header=1)\n",
    "zibdf"
   ]
  },
  {
   "cell_type": "markdown",
   "metadata": {},
   "source": [
    "## opschonen zib\n",
    "\n",
    "* lowercase kolomnamen\n",
    "* paar labels laten vervallen\n",
    "* name en path kolom toevoegen\n",
    "* name vullen (naam attribuut)\n",
    "* kolommen opschonen tot benodigde\n",
    "\n",
    "Handmatig:\n",
    "* path vullen (als in logical model, dus pad.pad2.pad3.naam etc.)"
   ]
  },
  {
   "cell_type": "code",
   "execution_count": 10,
   "metadata": {},
   "outputs": [
    {
     "data": {
      "text/html": [
       "<div>\n",
       "<style scoped>\n",
       "    .dataframe tbody tr th:only-of-type {\n",
       "        vertical-align: middle;\n",
       "    }\n",
       "\n",
       "    .dataframe tbody tr th {\n",
       "        vertical-align: top;\n",
       "    }\n",
       "\n",
       "    .dataframe thead th {\n",
       "        text-align: right;\n",
       "    }\n",
       "</style>\n",
       "<table border=\"1\" class=\"dataframe\">\n",
       "  <thead>\n",
       "    <tr style=\"text-align: right;\">\n",
       "      <th></th>\n",
       "      <th>name</th>\n",
       "      <th>path</th>\n",
       "      <th>alias</th>\n",
       "      <th>type</th>\n",
       "      <th>card.</th>\n",
       "      <th>stereotype</th>\n",
       "      <th>id</th>\n",
       "      <th>definition</th>\n",
       "      <th>definitioncode</th>\n",
       "    </tr>\n",
       "  </thead>\n",
       "  <tbody>\n",
       "    <tr>\n",
       "      <th>0</th>\n",
       "      <td>AnatomicalLocation</td>\n",
       "      <td>AnatomicalLocation</td>\n",
       "      <td>NL: AnatomischeLocatie</td>\n",
       "      <td></td>\n",
       "      <td></td>\n",
       "      <td>rootconcept</td>\n",
       "      <td>NL-CM:20.7.1</td>\n",
       "      <td>Root concept of the AnatomicalLocation partial...</td>\n",
       "      <td>SNOMED CT: 123037004 Body structure</td>\n",
       "    </tr>\n",
       "    <tr>\n",
       "      <th>1</th>\n",
       "      <td>Location</td>\n",
       "      <td>AnatomicalLocation.Location</td>\n",
       "      <td>NL: Locatie</td>\n",
       "      <td>CD</td>\n",
       "      <td>0..1</td>\n",
       "      <td>data</td>\n",
       "      <td>NL-CM:20.7.4</td>\n",
       "      <td>Location on/in the body.</td>\n",
       "      <td>SNOMED CT: 363698007 Finding site</td>\n",
       "    </tr>\n",
       "    <tr>\n",
       "      <th>3</th>\n",
       "      <td>Laterality</td>\n",
       "      <td>AnatomicalLocation.Laterality</td>\n",
       "      <td>NL: Lateraliteit</td>\n",
       "      <td>CD</td>\n",
       "      <td>0..1</td>\n",
       "      <td>data</td>\n",
       "      <td>NL-CM:20.7.3</td>\n",
       "      <td>Laterality adds information about the body sid...</td>\n",
       "      <td>SNOMED CT: 272741003 Laterality</td>\n",
       "    </tr>\n",
       "  </tbody>\n",
       "</table>\n",
       "</div>"
      ],
      "text/plain": [
       "                 name                           path                   alias  \\\n",
       "0  AnatomicalLocation             AnatomicalLocation  NL: AnatomischeLocatie   \n",
       "1            Location    AnatomicalLocation.Location             NL: Locatie   \n",
       "3          Laterality  AnatomicalLocation.Laterality        NL: Lateraliteit   \n",
       "\n",
       "  type card.   stereotype            id  \\\n",
       "0             rootconcept  NL-CM:20.7.1   \n",
       "1   CD  0..1         data  NL-CM:20.7.4   \n",
       "3   CD  0..1         data  NL-CM:20.7.3   \n",
       "\n",
       "                                          definition  \\\n",
       "0  Root concept of the AnatomicalLocation partial...   \n",
       "1                           Location on/in the body.   \n",
       "3  Laterality adds information about the body sid...   \n",
       "\n",
       "                        definitioncode  \n",
       "0  SNOMED CT: 123037004 Body structure  \n",
       "1    SNOMED CT: 363698007 Finding site  \n",
       "3      SNOMED CT: 272741003 Laterality  "
      ]
     },
     "execution_count": 10,
     "metadata": {},
     "output_type": "execute_result"
    }
   ],
   "source": [
    "zibdf.columns = [col.lower() for col in zibdf.columns]\n",
    "zibdf = zibdf.drop(labels=['unnamed: 0', 'reference'], axis=1).dropna(how='all')\n",
    "zibdf.insert(0, 'name', None)\n",
    "zibdf.insert(0, 'path', None)\n",
    "zibdf.fillna('')\n",
    "concepts = []\n",
    "for i, row in zibdf.iterrows():\n",
    "    # Loop thru columns 2 tot 8 (Concept and 'Unnamed' ones)\n",
    "    for j in range(2, 6):\n",
    "        # print(j, row.iloc[j])\n",
    "        if not pd.isna(row.iloc[j]):\n",
    "            # Remove last element if next column is empty\n",
    "            if len(concepts) > j -2:\n",
    "                concepts.pop()\n",
    "            try:\n",
    "                concepts[j - 2] = row.iloc[j]\n",
    "            except IndexError:\n",
    "                concepts.append(row.iloc[j])\n",
    "    # print(i, concepts)\n",
    "    zibdf.at[i, 'path'] = '.'.join(concepts)\n",
    "    zibdf.at[i, 'name'] = concepts[-1]\n",
    "zibdf = zibdf[['name', 'path', 'alias', 'type', 'card.', 'stereotype', 'id', 'definition', 'definitioncode']].fillna('')\n",
    "zibdf"
   ]
  },
  {
   "cell_type": "markdown",
   "metadata": {},
   "source": [
    "## Excel opslaan"
   ]
  },
  {
   "cell_type": "code",
   "execution_count": 11,
   "metadata": {},
   "outputs": [],
   "source": [
    "url = os.path.join(base, 'mappable', file)\n",
    "zibdf.to_excel(url, index=False)"
   ]
  },
  {
   "cell_type": "code",
   "execution_count": null,
   "metadata": {},
   "outputs": [],
   "source": []
  }
 ],
 "metadata": {
  "kernelspec": {
   "display_name": "Python 3 (ipykernel)",
   "language": "python",
   "name": "python3"
  },
  "language_info": {
   "codemirror_mode": {
    "name": "ipython",
    "version": 3
   },
   "file_extension": ".py",
   "mimetype": "text/x-python",
   "name": "python",
   "nbconvert_exporter": "python",
   "pygments_lexer": "ipython3",
   "version": "3.13.5"
  }
 },
 "nbformat": 4,
 "nbformat_minor": 4
}
